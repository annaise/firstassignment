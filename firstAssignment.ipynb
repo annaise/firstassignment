{
 "cells": [
  {
   "cell_type": "markdown",
   "id": "da5dbfd4-dbd3-4fd7-85af-760da7adbaec",
   "metadata": {},
   "source": [
    "# My Jupyter Notebook on IBM Watson Studio"
   ]
  },
  {
   "cell_type": "markdown",
   "id": "7ffe8d44-cb05-44c4-b47a-e0307ccec1af",
   "metadata": {},
   "source": [
    "**Annaise Amankwa**<br />\n",
    "  Data Scientist"
   ]
  },
  {
   "cell_type": "markdown",
   "id": "732d8178-4813-4c28-b5ea-2533d5102539",
   "metadata": {},
   "source": [
    "*I am interested in data science because i am a curios person and love to solve problems.*\n",
    "\n"
   ]
  },
  {
   "cell_type": "markdown",
   "id": "1695d43d-99e5-407a-9bae-ee524c821439",
   "metadata": {},
   "source": [
    "My code is to print out an output of 9"
   ]
  },
  {
   "cell_type": "code",
   "execution_count": 1,
   "id": "726d3458-4744-4a79-a096-d86030d4a0bb",
   "metadata": {},
   "outputs": [
    {
     "name": "stdout",
     "output_type": "stream",
     "text": [
      "9\n"
     ]
    }
   ],
   "source": [
    "x=5\n",
    "y=4\n",
    "print(x+y)"
   ]
  },
  {
   "cell_type": "markdown",
   "id": "37082dc2-7977-48df-964b-57cf35aa9e75",
   "metadata": {},
   "source": [
    "The name of my children are <br />\n",
    "1.Naana<br />\n",
    "2.Aseda<br />\n",
    "<a href=\"https://www.facebook.com\" title=\"facebook\">Facebook</a><br />\n",
    "![logo](https://logos.keycdn.com/keycdn-logo.svg \"KeyCDN logo\")"
   ]
  },
  {
   "cell_type": "code",
   "execution_count": null,
   "id": "366a26cf-99c4-4821-b4fc-10d2b73545ba",
   "metadata": {},
   "outputs": [],
   "source": []
  }
 ],
 "metadata": {
  "kernelspec": {
   "display_name": "Python",
   "language": "python",
   "name": "conda-env-python-py"
  },
  "language_info": {
   "codemirror_mode": {
    "name": "ipython",
    "version": 3
   },
   "file_extension": ".py",
   "mimetype": "text/x-python",
   "name": "python",
   "nbconvert_exporter": "python",
   "pygments_lexer": "ipython3",
   "version": "3.7.12"
  }
 },
 "nbformat": 4,
 "nbformat_minor": 5
}
